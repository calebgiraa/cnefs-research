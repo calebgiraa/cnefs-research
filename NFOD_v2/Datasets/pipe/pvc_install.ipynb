{
 "cells": [
  {
   "cell_type": "code",
   "execution_count": 1,
   "id": "3a96602f",
   "metadata": {
    "vscode": {
     "languageId": "powershell"
    }
   },
   "outputs": [
    {
     "name": "stdout",
     "output_type": "stream",
     "text": [
      "Collecting roboflow\n",
      "  Downloading roboflow-1.2.1-py3-none-any.whl.metadata (9.7 kB)\n",
      "Requirement already satisfied: certifi in c:\\users\\caleb\\anaconda3\\envs\\cnefs\\lib\\site-packages (from roboflow) (2025.6.15)\n",
      "Collecting idna==3.7 (from roboflow)\n",
      "  Downloading idna-3.7-py3-none-any.whl.metadata (9.9 kB)\n",
      "Requirement already satisfied: cycler in c:\\users\\caleb\\anaconda3\\envs\\cnefs\\lib\\site-packages (from roboflow) (0.12.1)\n",
      "Requirement already satisfied: kiwisolver>=1.3.1 in c:\\users\\caleb\\anaconda3\\envs\\cnefs\\lib\\site-packages (from roboflow) (1.4.8)\n",
      "Requirement already satisfied: matplotlib in c:\\users\\caleb\\anaconda3\\envs\\cnefs\\lib\\site-packages (from roboflow) (3.10.3)\n",
      "Requirement already satisfied: numpy>=1.18.5 in c:\\users\\caleb\\anaconda3\\envs\\cnefs\\lib\\site-packages (from roboflow) (1.26.4)\n",
      "Collecting opencv-python-headless==4.10.0.84 (from roboflow)\n",
      "  Downloading opencv_python_headless-4.10.0.84-cp37-abi3-win_amd64.whl.metadata (20 kB)\n",
      "Requirement already satisfied: Pillow>=7.1.2 in c:\\users\\caleb\\anaconda3\\envs\\cnefs\\lib\\site-packages (from roboflow) (11.2.1)\n",
      "Collecting pillow-heif<2 (from roboflow)\n",
      "  Downloading pillow_heif-1.0.0-cp310-cp310-win_amd64.whl.metadata (9.8 kB)\n",
      "Collecting pillow-avif-plugin<2 (from roboflow)\n",
      "  Downloading pillow_avif_plugin-1.5.2-cp310-cp310-win_amd64.whl.metadata (2.2 kB)\n",
      "Requirement already satisfied: python-dateutil in c:\\users\\caleb\\anaconda3\\envs\\cnefs\\lib\\site-packages (from roboflow) (2.9.0.post0)\n",
      "Collecting python-dotenv (from roboflow)\n",
      "  Downloading python_dotenv-1.1.1-py3-none-any.whl.metadata (24 kB)\n",
      "Requirement already satisfied: requests in c:\\users\\caleb\\anaconda3\\envs\\cnefs\\lib\\site-packages (from roboflow) (2.32.4)\n",
      "Requirement already satisfied: six in c:\\users\\caleb\\anaconda3\\envs\\cnefs\\lib\\site-packages (from roboflow) (1.17.0)\n",
      "Requirement already satisfied: urllib3>=1.26.6 in c:\\users\\caleb\\anaconda3\\envs\\cnefs\\lib\\site-packages (from roboflow) (2.4.0)\n",
      "Requirement already satisfied: tqdm>=4.41.0 in c:\\users\\caleb\\anaconda3\\envs\\cnefs\\lib\\site-packages (from roboflow) (4.67.1)\n",
      "Requirement already satisfied: PyYAML>=5.3.1 in c:\\users\\caleb\\anaconda3\\envs\\cnefs\\lib\\site-packages (from roboflow) (6.0.2)\n",
      "Collecting requests-toolbelt (from roboflow)\n",
      "  Downloading requests_toolbelt-1.0.0-py2.py3-none-any.whl.metadata (14 kB)\n",
      "Collecting filetype (from roboflow)\n",
      "  Downloading filetype-1.2.0-py2.py3-none-any.whl.metadata (6.5 kB)\n",
      "Requirement already satisfied: colorama in c:\\users\\caleb\\anaconda3\\envs\\cnefs\\lib\\site-packages (from tqdm>=4.41.0->roboflow) (0.4.6)\n",
      "Requirement already satisfied: contourpy>=1.0.1 in c:\\users\\caleb\\anaconda3\\envs\\cnefs\\lib\\site-packages (from matplotlib->roboflow) (1.3.2)\n",
      "Requirement already satisfied: fonttools>=4.22.0 in c:\\users\\caleb\\anaconda3\\envs\\cnefs\\lib\\site-packages (from matplotlib->roboflow) (4.58.2)\n",
      "Requirement already satisfied: packaging>=20.0 in c:\\users\\caleb\\anaconda3\\envs\\cnefs\\lib\\site-packages (from matplotlib->roboflow) (25.0)\n",
      "Requirement already satisfied: pyparsing>=2.3.1 in c:\\users\\caleb\\anaconda3\\envs\\cnefs\\lib\\site-packages (from matplotlib->roboflow) (3.2.3)\n",
      "Requirement already satisfied: charset_normalizer<4,>=2 in c:\\users\\caleb\\anaconda3\\envs\\cnefs\\lib\\site-packages (from requests->roboflow) (3.3.2)\n",
      "Downloading roboflow-1.2.1-py3-none-any.whl (86 kB)\n",
      "Downloading idna-3.7-py3-none-any.whl (66 kB)\n",
      "Downloading opencv_python_headless-4.10.0.84-cp37-abi3-win_amd64.whl (38.8 MB)\n",
      "   ---------------------------------------- 0.0/38.8 MB ? eta -:--:--\n",
      "   -- ------------------------------------- 2.6/38.8 MB 15.1 MB/s eta 0:00:03\n",
      "   ------ --------------------------------- 6.3/38.8 MB 16.1 MB/s eta 0:00:03\n",
      "   ---------- ----------------------------- 9.7/38.8 MB 16.3 MB/s eta 0:00:02\n",
      "   ------------- -------------------------- 13.4/38.8 MB 17.1 MB/s eta 0:00:02\n",
      "   ----------------- ---------------------- 17.0/38.8 MB 17.0 MB/s eta 0:00:02\n",
      "   --------------------- ------------------ 20.7/38.8 MB 17.0 MB/s eta 0:00:02\n",
      "   ------------------------ --------------- 24.1/38.8 MB 17.0 MB/s eta 0:00:01\n",
      "   ---------------------------- ----------- 27.5/38.8 MB 16.9 MB/s eta 0:00:01\n",
      "   ------------------------------- -------- 30.7/38.8 MB 16.8 MB/s eta 0:00:01\n",
      "   ----------------------------------- ---- 34.1/38.8 MB 16.8 MB/s eta 0:00:01\n",
      "   -------------------------------------- - 37.2/38.8 MB 16.5 MB/s eta 0:00:01\n",
      "   ---------------------------------------- 38.8/38.8 MB 16.2 MB/s eta 0:00:00\n",
      "Downloading pillow_avif_plugin-1.5.2-cp310-cp310-win_amd64.whl (9.9 MB)\n",
      "   ---------------------------------------- 0.0/9.9 MB ? eta -:--:--\n",
      "   ------------- -------------------------- 3.4/9.9 MB 18.3 MB/s eta 0:00:01\n",
      "   ----------------------------- ---------- 7.3/9.9 MB 18.9 MB/s eta 0:00:01\n",
      "   ---------------------------------------- 9.9/9.9 MB 18.1 MB/s eta 0:00:00\n",
      "Downloading pillow_heif-1.0.0-cp310-cp310-win_amd64.whl (5.3 MB)\n",
      "   ---------------------------------------- 0.0/5.3 MB ? eta -:--:--\n",
      "   ------------------------- -------------- 3.4/5.3 MB 16.7 MB/s eta 0:00:01\n",
      "   ---------------------------------------- 5.3/5.3 MB 16.1 MB/s eta 0:00:00\n",
      "Downloading filetype-1.2.0-py2.py3-none-any.whl (19 kB)\n",
      "Downloading python_dotenv-1.1.1-py3-none-any.whl (20 kB)\n",
      "Downloading requests_toolbelt-1.0.0-py2.py3-none-any.whl (54 kB)\n",
      "Installing collected packages: pillow-avif-plugin, filetype, python-dotenv, pillow-heif, opencv-python-headless, idna, requests-toolbelt, roboflow\n",
      "\n",
      "   ---------------------------------------- 0/8 [pillow-avif-plugin]\n",
      "   ---------- ----------------------------- 2/8 [python-dotenv]\n",
      "   --------------- ------------------------ 3/8 [pillow-heif]\n",
      "   -------------------- ------------------- 4/8 [opencv-python-headless]\n",
      "   -------------------- ------------------- 4/8 [opencv-python-headless]\n",
      "   -------------------- ------------------- 4/8 [opencv-python-headless]\n",
      "   -------------------- ------------------- 4/8 [opencv-python-headless]\n",
      "  Attempting uninstall: idna\n",
      "   -------------------- ------------------- 4/8 [opencv-python-headless]\n",
      "    Found existing installation: idna 3.10\n",
      "   -------------------- ------------------- 4/8 [opencv-python-headless]\n",
      "    Uninstalling idna-3.10:\n",
      "   -------------------- ------------------- 4/8 [opencv-python-headless]\n",
      "      Successfully uninstalled idna-3.10\n",
      "   -------------------- ------------------- 4/8 [opencv-python-headless]\n",
      "   ------------------------- -------------- 5/8 [idna]\n",
      "   ------------------------------ --------- 6/8 [requests-toolbelt]\n",
      "   ----------------------------------- ---- 7/8 [roboflow]\n",
      "   ---------------------------------------- 8/8 [roboflow]\n",
      "\n",
      "Successfully installed filetype-1.2.0 idna-3.7 opencv-python-headless-4.10.0.84 pillow-avif-plugin-1.5.2 pillow-heif-1.0.0 python-dotenv-1.1.1 requests-toolbelt-1.0.0 roboflow-1.2.1\n"
     ]
    }
   ],
   "source": [
    "! pip install roboflow\n",
    "                "
   ]
  },
  {
   "cell_type": "code",
   "execution_count": 3,
   "id": "7f4efe22",
   "metadata": {},
   "outputs": [
    {
     "name": "stdout",
     "output_type": "stream",
     "text": [
      "loading Roboflow workspace...\n",
      "loading Roboflow project...\n"
     ]
    },
    {
     "name": "stderr",
     "output_type": "stream",
     "text": [
      "Downloading Dataset Version Zip in Pipe-Segmentation-2 to coco-segmentation:: 100%|██████████| 14797/14797 [00:00<00:00, 15191.85it/s]"
     ]
    },
    {
     "name": "stdout",
     "output_type": "stream",
     "text": [
      "\n"
     ]
    },
    {
     "name": "stderr",
     "output_type": "stream",
     "text": [
      "\n",
      "Extracting Dataset Version Zip to Pipe-Segmentation-2 in coco-segmentation:: 100%|██████████| 1081/1081 [00:00<00:00, 1217.90it/s]\n"
     ]
    }
   ],
   "source": [
    "from roboflow import Roboflow\n",
    "rf = Roboflow(api_key=\"CCQWp1xriknjGBSJW1GI\")\n",
    "project = rf.workspace(\"hendi-hart-wysup\").project(\"pipe-segmentation-zbjdo\")\n",
    "version = project.version(2)\n",
    "dataset = version.download(\"coco-segmentation\") "
   ]
  }
 ],
 "metadata": {
  "kernelspec": {
   "display_name": "CNEFS",
   "language": "python",
   "name": "python3"
  },
  "language_info": {
   "codemirror_mode": {
    "name": "ipython",
    "version": 3
   },
   "file_extension": ".py",
   "mimetype": "text/x-python",
   "name": "python",
   "nbconvert_exporter": "python",
   "pygments_lexer": "ipython3",
   "version": "3.10.16"
  }
 },
 "nbformat": 4,
 "nbformat_minor": 5
}
